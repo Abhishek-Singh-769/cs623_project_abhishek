{
 "cells": [
  {
   "cell_type": "markdown",
   "id": "af5d7337",
   "metadata": {},
   "source": [
    "## create a relational db using python and sql to complete the problem statement\n",
    "### problem statement: product p1 changes its name to pp1"
   ]
  },
  {
   "cell_type": "code",
   "execution_count": 24,
   "id": "d8bdd9d1",
   "metadata": {
    "scrolled": true
   },
   "outputs": [
    {
     "name": "stdout",
     "output_type": "stream",
     "text": [
      "beginning\n"
     ]
    }
   ],
   "source": [
    "#from distutils.util import execute\n",
    "#from distutils.util import execute\n",
    "#from mysql.connector import Error\n",
    "#from mysql.connector.locales.eng import client_error\n",
    "\n",
    "import mysql.connector\n",
    "print('beginning')\n",
    "\n",
    "# importing sql connector in this block"
   ]
  },
  {
   "cell_type": "code",
   "execution_count": 25,
   "id": "78da6ba8",
   "metadata": {},
   "outputs": [],
   "source": [
    "def get_conn():\n",
    "    # defining a function to establish a connection with database and pointing it to DB \n",
    "    con = mysql.connector.connect(\n",
    "    host = 'localhost',\n",
    "    user = 'root',\n",
    "    password = 'Mysql_9698',\n",
    "    database = 'cs623_project')\n",
    "    \n",
    "    # implementing ACID properties\n",
    "    # For isolation, we set the isoalation level to SERIALIZABLE\n",
    "    con.start_transaction(isolation_level = 'SERIALIZABLE')\n",
    "    \n",
    "    # For atomicity, we set autocomit of transaction to false\n",
    "    con.autocommit = False\n",
    "\n",
    "    return con"
   ]
  },
  {
   "cell_type": "code",
   "execution_count": 26,
   "id": "8c73aa52",
   "metadata": {},
   "outputs": [
    {
     "name": "stdout",
     "output_type": "stream",
     "text": [
      "mysql closed\n",
      "end1\n"
     ]
    }
   ],
   "source": [
    "\"\"\"\n",
    "Here we are creating the table using cursor object of the mysql.connector.\n",
    "Additionally, we use execute function for executing queries, and commit function comits the query to DB if all the \n",
    "constraints are perfectly taken care of\n",
    "Also, assigning the primary key, and check constraint for the necessitated columns.\n",
    "\"\"\"\n",
    "try:\n",
    "    con = get_conn()\n",
    "    cur = con.cursor()\n",
    "    sql1 = 'create table product(prod_id varchar(10), prod_name varchar(25), prod_price float)'\n",
    "    sql2 = 'alter table product add constraint pk_product_id primary key (prod_id)'\n",
    "    sql3 = 'alter table product add constraint ck_product_price check(prod_price > 0)'\n",
    "    #val1 = ()\n",
    "    cur.execute(sql1)\n",
    "    cur.execute(sql2)\n",
    "    cur.execute(sql3)\n",
    "except (Exception) as err:\n",
    "    print('err')\n",
    "    print('transactions not compeleted, rollback')\n",
    "    print(err)\n",
    "    con.rollback()\n",
    "finally:\n",
    "    if con:\n",
    "        con.commit()\n",
    "        cur.close()\n",
    "        con.close()\n",
    "        print('mysql closed')\n",
    "print('end1')"
   ]
  },
  {
   "cell_type": "code",
   "execution_count": 27,
   "id": "21a11816",
   "metadata": {},
   "outputs": [
    {
     "name": "stdout",
     "output_type": "stream",
     "text": [
      "mysql closed\n",
      "end2\n"
     ]
    }
   ],
   "source": [
    "\"\"\"\n",
    "Creating the depot table in this block and assigning the primary key and check constraint.\n",
    "\"\"\"\n",
    "try:\n",
    "    con = get_conn()\n",
    "    cur = con.cursor()\n",
    "    sql4 = 'create table depot(dep_id varchar(10), dep_addr varchar(25), dep_vol float)'\n",
    "    sql5 = 'alter table depot add constraint pk_depot_id primary key (dep_id)'\n",
    "    sql6 = 'alter table depot add constraint ck_depot_vol check (dep_vol > 0)'\n",
    "    cur.execute(sql4)\n",
    "    cur.execute(sql5)\n",
    "    cur.execute(sql6)\n",
    "except (Exception) as err:\n",
    "    print('err')\n",
    "    print('transactions not compeleted, rollback')\n",
    "    print(err)\n",
    "    con.rollback()\n",
    "finally:\n",
    "    if con:\n",
    "        con.commit()\n",
    "        cur.close()\n",
    "        con.close()\n",
    "        print('mysql closed')\n",
    "print('end2')"
   ]
  },
  {
   "cell_type": "code",
   "execution_count": 28,
   "id": "f059a0c7",
   "metadata": {},
   "outputs": [
    {
     "name": "stdout",
     "output_type": "stream",
     "text": [
      "mysql closed\n",
      "end3\n"
     ]
    }
   ],
   "source": [
    "\"\"\"\n",
    "Here we create stock table and assign the composite key of prod_id, dep_id as primary key.\n",
    "Additionally, we are using Foreign Key constraint with \"cascade on update, cascade on delete\" clause to \n",
    "solve our problem statement.\n",
    "\"\"\"\n",
    "try:\n",
    "    con = get_conn()\n",
    "    cur = con.cursor()\n",
    "    sql7 = 'create table stock(prod_id varchar(10), dep_id varchar(10), st_qty float)'\n",
    "    sql8 = 'alter table stock add constraint pk_prod_dep_id primary key (prod_id, dep_id)'\n",
    "    sql9 = 'alter table stock add constraint fk_prod_id foreign key (prod_id) references product(prod_id) on update cascade on delete cascade'\n",
    "    sql10 = 'alter table stock add constraint fk_dep_id foreign key (dep_id) references depot(dep_id) on update cascade on delete cascade'\n",
    "    cur.execute(sql7)\n",
    "    cur.execute(sql8)\n",
    "    cur.execute(sql9)\n",
    "    cur.execute(sql10)\n",
    "except (Exception) as err:\n",
    "    print('err')\n",
    "    print('transactions not compeleted, rollback')\n",
    "    print(err)\n",
    "    con.rollback()\n",
    "finally:\n",
    "    if con:\n",
    "        con.commit()\n",
    "        cur.close()\n",
    "        con.close()\n",
    "        print('mysql closed')\n",
    "print('end3')"
   ]
  },
  {
   "cell_type": "code",
   "execution_count": 29,
   "id": "35ed07cd",
   "metadata": {},
   "outputs": [
    {
     "name": "stdout",
     "output_type": "stream",
     "text": [
      "mysql closed\n",
      "end4\n"
     ]
    }
   ],
   "source": [
    "\"\"\"\n",
    "In this block of code we populate our product, stock, and depot table with the values provided.\n",
    "\"\"\"\n",
    "try:\n",
    "    con = get_conn()\n",
    "    cur = con.cursor()\n",
    "    sql11 = \"INSERT INTO product values('p1','tape',2.5),('p2','tv',250),('p3','ver',80)\"\n",
    "    sql12 = \"INSERT INTO depot values('d1','New York',9000),('d2','Syracuse',6000),('d4','New York',2000)\"\n",
    "    sql13 = \"INSERT INTO stock values('p1','d1',1000),('p1','d2',-100),('p1','d4',1200),('p3','d1',3000),('p3','d4',2000),('p2','d4',1500),('p2','d1',-400),('p2','d2',2000)\"\n",
    "    cur.execute(sql11)\n",
    "    cur.execute(sql12)\n",
    "    cur.execute(sql13)\n",
    "except (Exception) as err:\n",
    "    print('err')\n",
    "    print('transactions not compeleted, rollback')\n",
    "    print(err)\n",
    "    con.rollback()\n",
    "finally:\n",
    "    if con:\n",
    "        con.commit()\n",
    "        cur.close()\n",
    "        con.close()\n",
    "        print('mysql closed')\n",
    "print('end4')"
   ]
  },
  {
   "cell_type": "code",
   "execution_count": 32,
   "id": "0b911341",
   "metadata": {},
   "outputs": [
    {
     "name": "stdout",
     "output_type": "stream",
     "text": [
      "mysql closed\n",
      "end5\n"
     ]
    }
   ],
   "source": [
    "\"\"\"\n",
    "In this block of code we execute our problem statement by update the product id p1 as pp1 in parent table(product), \n",
    "which also changes the values in child table(stock).\n",
    "\"\"\"\n",
    "try:\n",
    "    con = get_conn()\n",
    "    cur = con.cursor()\n",
    "    sql14 = \"update product set prod_id ='pp1' where prod_id = 'p1'\"\n",
    "    cur.execute(sql14)\n",
    "except (Exception) as err:\n",
    "    print('err')\n",
    "    print('transactions not compeleted, rollback')\n",
    "    print(err)\n",
    "    con.rollback()\n",
    "finally:\n",
    "    if con:\n",
    "        con.commit()\n",
    "        cur.close()\n",
    "        con.close()\n",
    "        print('mysql closed')\n",
    "print('end5')"
   ]
  },
  {
   "cell_type": "code",
   "execution_count": 33,
   "id": "1faa212a",
   "metadata": {},
   "outputs": [
    {
     "name": "stdout",
     "output_type": "stream",
     "text": [
      "prod_id : 'p2' | dep_id :  'd1' | st_qty :  -400.0 | \n",
      "prod_id : 'p2' | dep_id :  'd2' | st_qty :  2000.0 | \n",
      "prod_id : 'p2' | dep_id :  'd4' | st_qty :  1500.0 | \n",
      "prod_id : 'p3' | dep_id :  'd1' | st_qty :  3000.0 | \n",
      "prod_id : 'p3' | dep_id :  'd4' | st_qty :  2000.0 | \n",
      "prod_id : 'pp1' | dep_id :  'd1' | st_qty :  1000.0 | \n",
      "prod_id : 'pp1' | dep_id :  'd2' | st_qty :  -100.0 | \n",
      "prod_id : 'pp1' | dep_id :  'd4' | st_qty :  1200.0 | \n"
     ]
    }
   ],
   "source": [
    "\"\"\"\n",
    "here we use fetchall function of cursor object to output the result of problem statement query execution.\n",
    "\"\"\"\n",
    "try:\n",
    "    con = get_conn()\n",
    "    cur = con.cursor()\n",
    "    sql15 = \"select prod_id, dep_id, st_qty from stock\"\n",
    "    col_lis = ['prod_id', 'dep_id', 'st_qty']\n",
    "    #values = ('prod_id', 'dep_id', 'st_qtr')\n",
    "    cur.execute(sql15)\n",
    "    result = cur.fetchall()\n",
    "except (Exception) as err:\n",
    "    print('err')\n",
    "    print('transactions not compeleted, rollback')\n",
    "    print(err)\n",
    "    con.rollback()\n",
    "finally:\n",
    "    if con:\n",
    "        con.commit()\n",
    "        cur.close\n",
    "        con.close\n",
    "        #print('mysql closed')\n",
    "#print('end11')\n",
    "for x in range(len(result)):\n",
    "    temp = str(result[x]).strip('(').strip(')').strip().split(',')\n",
    "    strt = ''\n",
    "    for xx in range(len(temp)):\n",
    "        strt+= col_lis[xx] + ' : ' + temp[xx] +' | ' \n",
    "    #strt+='\\n'\n",
    "    print(strt)"
   ]
  },
  {
   "cell_type": "code",
   "execution_count": null,
   "id": "1ea2fae9",
   "metadata": {},
   "outputs": [],
   "source": []
  }
 ],
 "metadata": {
  "kernelspec": {
   "display_name": "Python 3 (ipykernel)",
   "language": "python",
   "name": "python3"
  },
  "language_info": {
   "codemirror_mode": {
    "name": "ipython",
    "version": 3
   },
   "file_extension": ".py",
   "mimetype": "text/x-python",
   "name": "python",
   "nbconvert_exporter": "python",
   "pygments_lexer": "ipython3",
   "version": "3.9.13"
  }
 },
 "nbformat": 4,
 "nbformat_minor": 5
}
